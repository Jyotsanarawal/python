{
 "cells": [
  {
   "cell_type": "markdown",
   "metadata": {},
   "source": [
    "# Python Data Structures\n",
    "- Ints and floats\n",
    "- Str\n",
    "- Lists\n",
    "- Tuples\n",
    "- Dictionaries\n",
    "- Files"
   ]
  },
  {
   "cell_type": "markdown",
   "metadata": {},
   "source": [
    "### Ints and Floats\n",
    "- Depending upon the version of python use of behaviour of ints and floats can differ, we will be using python 3.6"
   ]
  },
  {
   "cell_type": "code",
   "execution_count": null,
   "metadata": {},
   "outputs": [],
   "source": [
    "income=50000 \n",
    "\n",
    "# #Declare a variable \n",
    "# Call up Value \n",
    "#Rs.50000 - 25 years\n",
    "#Variable is specific and case sensitive\n",
    "\n",
    "print(income)\n",
    "\n",
    "Age= 25.5\n",
    "print (Age)\n"
   ]
  },
  {
   "cell_type": "code",
   "execution_count": null,
   "metadata": {},
   "outputs": [],
   "source": [
    "# We can know the type of the object by using the type() method\n",
    "print (type(income))\n",
    "print (type(Age))"
   ]
  },
  {
   "cell_type": "code",
   "execution_count": null,
   "metadata": {},
   "outputs": [],
   "source": [
    "Income1=50000\n",
    "Income2=75000\n",
    "Avg = ((Income1+Income2)/2)\n",
    "print(Avg)\n",
    "print(type(Avg))\n",
    "\n",
    "#Variables make code Reproducible"
   ]
  },
  {
   "cell_type": "code",
   "execution_count": null,
   "metadata": {},
   "outputs": [],
   "source": [
    "print(Avg)"
   ]
  },
  {
   "cell_type": "code",
   "execution_count": null,
   "metadata": {},
   "outputs": [],
   "source": [
    "print (float(Income1)/Income2)\n",
    "print (type(float(Income1)/Income2))\n"
   ]
  },
  {
   "cell_type": "markdown",
   "metadata": {},
   "source": [
    "# Strings and Booleans\n",
    "\n"
   ]
  },
  {
   "cell_type": "code",
   "execution_count": null,
   "metadata": {},
   "outputs": [],
   "source": [
    "Course = \"Data Science with Python\"\n",
    "print(type(Course))"
   ]
  },
  {
   "cell_type": "code",
   "execution_count": null,
   "metadata": {},
   "outputs": [],
   "source": [
    "Learning = True\n",
    "print(type(Learning))"
   ]
  },
  {
   "cell_type": "code",
   "execution_count": null,
   "metadata": {},
   "outputs": [],
   "source": [
    "3+8"
   ]
  },
  {
   "cell_type": "code",
   "execution_count": null,
   "metadata": {
    "scrolled": true
   },
   "outputs": [],
   "source": [
    "'Data' + 'Science'"
   ]
  },
  {
   "cell_type": "code",
   "execution_count": null,
   "metadata": {},
   "outputs": [],
   "source": [
    "#the + operator concatenates strings together, while the * concatenates multiple copies of a string together.\n",
    "sample2 = 1 * 3\n",
    "sample3 = \"1\" * 3\n",
    "\n",
    "print(sample2)\n",
    "print(sample3)"
   ]
  },
  {
   "cell_type": "code",
   "execution_count": null,
   "metadata": {},
   "outputs": [],
   "source": [
    "#Different Types behave differents. Plus works differently on a integer vs. a string"
   ]
  },
  {
   "cell_type": "code",
   "execution_count": null,
   "metadata": {},
   "outputs": [],
   "source": [
    "print(\"Sumit started with income of Rs.\" + Income1 + \". Gradually it was increased to Rs.\" + Income2)"
   ]
  },
  {
   "cell_type": "code",
   "execution_count": null,
   "metadata": {},
   "outputs": [],
   "source": [
    "print(\"Sumit started with income of Rs.\" + str(Income1) + \". Gradually it was increased to Rs.\" + str(Income2) + (\". Great!\"))"
   ]
  },
  {
   "cell_type": "code",
   "execution_count": null,
   "metadata": {},
   "outputs": [],
   "source": [
    "Income = \"10000\"\n",
    "type(Income)"
   ]
  },
  {
   "cell_type": "code",
   "execution_count": null,
   "metadata": {},
   "outputs": [],
   "source": [
    "NIncome = int(Income)\n",
    "NIncome"
   ]
  },
  {
   "cell_type": "markdown",
   "metadata": {},
   "source": [
    "# Lists\n"
   ]
  },
  {
   "cell_type": "code",
   "execution_count": null,
   "metadata": {},
   "outputs": [],
   "source": [
    "#Income of a certain group\n",
    "\n",
    "Income1 = 50000\n",
    "Income2 = 75000\n",
    "Income3 = 65000\n",
    "Income4 = 45000\n",
    "Income5 = 25000\n",
    "\n",
    "Income = [Income1, Income2, Income3, Income4, Income5]\n",
    "print(Income)\n"
   ]
  },
  {
   "cell_type": "code",
   "execution_count": null,
   "metadata": {},
   "outputs": [],
   "source": [
    "Income = [\"Sumit\",50000,\"Amit\",75000,\"Tina\",65000,\"Heena\",45000,\"Reena\",25000]\n",
    "Income"
   ]
  },
  {
   "cell_type": "code",
   "execution_count": null,
   "metadata": {},
   "outputs": [],
   "source": [
    "#Lists can also contain Lists themselves\n",
    "#Instead of putting strings between the number one can create sublists for each Income entry \n",
    "\n",
    "Income2 = [['Sumit',50000],\n",
    "['Amit',75000],\n",
    "['Tina',65000],\n",
    "['Heena',45000],\n",
    "['Reena',25000]]\n",
    "\n",
    "Income2 #The main list contains 5 sub lists\n"
   ]
  },
  {
   "cell_type": "code",
   "execution_count": null,
   "metadata": {},
   "outputs": [],
   "source": [
    "type(Income)\n",
    "type(Income2)"
   ]
  },
  {
   "cell_type": "code",
   "execution_count": null,
   "metadata": {},
   "outputs": [],
   "source": [
    "# Accessing Information from a List - Use Index\n",
    "\n",
    "Income[5] #to access Income corresponding to Tina\n",
    "\n",
    "#Zero Based Indexing"
   ]
  },
  {
   "cell_type": "code",
   "execution_count": null,
   "metadata": {},
   "outputs": [],
   "source": [
    "#Slicing using :\n",
    "\n",
    "#[start:end]\n",
    "\n",
    "print(Income[2:6])\n",
    "print(Income[:])\n",
    "print(Income[2:])\n",
    "print(Income[:2])\n",
    "\n",
    "#Income of males \n",
    "Income[1] + Income[3]"
   ]
  },
  {
   "cell_type": "code",
   "execution_count": null,
   "metadata": {},
   "outputs": [],
   "source": [
    "#Income of females\n",
    "Income[-1] + Income[-3] + Income[-5]"
   ]
  },
  {
   "cell_type": "code",
   "execution_count": null,
   "metadata": {},
   "outputs": [],
   "source": [
    "Income2[2][:]  #Accessing all elements from list of list"
   ]
  },
  {
   "cell_type": "code",
   "execution_count": null,
   "metadata": {},
   "outputs": [],
   "source": [
    "#List Manipulations\n",
    "\n",
    "Income[1] = 55000 #Change\n",
    "Income\n"
   ]
  },
  {
   "cell_type": "code",
   "execution_count": null,
   "metadata": {},
   "outputs": [],
   "source": [
    "\n",
    "Income[0:2] = ['Likhit',60000]  #Replacing elements\n",
    "Income"
   ]
  },
  {
   "cell_type": "code",
   "execution_count": null,
   "metadata": {},
   "outputs": [],
   "source": [
    "Income_add = Income + ['Sumit',50000] #Adding elements\n",
    "Income_add"
   ]
  },
  {
   "cell_type": "code",
   "execution_count": null,
   "metadata": {},
   "outputs": [],
   "source": [
    "del(Income_add[0:2])  #Deleting an element\n",
    "Income_add"
   ]
  },
  {
   "cell_type": "code",
   "execution_count": null,
   "metadata": {},
   "outputs": [],
   "source": [
    "# Create list Age\n",
    "age = [11, 18, 20, 10, 9]\n",
    "\n",
    "age_new = age\n",
    "age_new"
   ]
  },
  {
   "cell_type": "code",
   "execution_count": null,
   "metadata": {},
   "outputs": [],
   "source": [
    "age_new[1] = 24\n",
    "age_new"
   ]
  },
  {
   "cell_type": "code",
   "execution_count": null,
   "metadata": {},
   "outputs": [],
   "source": [
    "age   #Why is this happening?"
   ]
  },
  {
   "cell_type": "code",
   "execution_count": null,
   "metadata": {},
   "outputs": [],
   "source": [
    "age_new "
   ]
  },
  {
   "cell_type": "code",
   "execution_count": null,
   "metadata": {},
   "outputs": [],
   "source": [
    "age_final = age_new.copy()\n",
    "age_final"
   ]
  },
  {
   "cell_type": "code",
   "execution_count": null,
   "metadata": {},
   "outputs": [],
   "source": [
    "age_final[1] = 32\n",
    "age_final"
   ]
  },
  {
   "cell_type": "code",
   "execution_count": null,
   "metadata": {},
   "outputs": [],
   "source": [
    "age_new"
   ]
  },
  {
   "cell_type": "code",
   "execution_count": null,
   "metadata": {},
   "outputs": [],
   "source": [
    "age_final = age_new[:]\n",
    "print(age_final)\n",
    "age_final[1] = 32\n",
    "print(age_final)\n",
    "print(age_new)"
   ]
  },
  {
   "cell_type": "code",
   "execution_count": null,
   "metadata": {
    "scrolled": true
   },
   "outputs": [],
   "source": [
    "#We can know about the methods available in the respective python classes by using the dir() method\n",
    "print (dir(Income))\n",
    "print (dir(Age))"
   ]
  },
  {
   "cell_type": "code",
   "execution_count": null,
   "metadata": {},
   "outputs": [],
   "source": [
    "#Functions in Python\n",
    "\n",
    "Python = True\n",
    "\n",
    "# Print out type of var\n",
    "print(type(Age))\n",
    "\n",
    "# Print out length of var\n",
    "print(len(Income))\n",
    "\n",
    "# Convert var to an integer: out2\n",
    "IntPy = int(Python)\n",
    "IntPy\n"
   ]
  },
  {
   "cell_type": "code",
   "execution_count": null,
   "metadata": {
    "scrolled": true
   },
   "outputs": [],
   "source": [
    "# Create lists \n",
    "Age1 = [25,65,34,44]\n",
    "Age2 = [10,50]\n",
    "\n",
    "# Paste together \n",
    "Age_f = Age1 + Age2\n",
    "print(Age_f)\n",
    "# Sort in descending order\n",
    "Age_full = sorted(Age_f)\n",
    "Age_FULL = sorted(Age_f, reverse = True)\n",
    "\n",
    "# Print out full_sorted\n",
    "print(Age_full)\n",
    "print(Age_FULL)"
   ]
  },
  {
   "cell_type": "code",
   "execution_count": null,
   "metadata": {},
   "outputs": [],
   "source": [
    "help(sorted)"
   ]
  },
  {
   "cell_type": "markdown",
   "metadata": {},
   "source": [
    "# Methods"
   ]
  },
  {
   "cell_type": "code",
   "execution_count": null,
   "metadata": {},
   "outputs": [],
   "source": [
    "Income.index('Heena')      #Index is a method"
   ]
  },
  {
   "cell_type": "code",
   "execution_count": null,
   "metadata": {},
   "outputs": [],
   "source": [
    "Word = \"python\"\n",
    "print(Word.upper())\n",
    "print(Word.replace(\"n\",\"n course\"))\n"
   ]
  },
  {
   "cell_type": "code",
   "execution_count": null,
   "metadata": {},
   "outputs": [],
   "source": [
    "Income.replace(50000,45000)      #replace is not a method for num/int/float objects"
   ]
  },
  {
   "cell_type": "code",
   "execution_count": null,
   "metadata": {},
   "outputs": [],
   "source": [
    "Income.index(45000)"
   ]
  },
  {
   "cell_type": "code",
   "execution_count": null,
   "metadata": {},
   "outputs": [],
   "source": [
    "Word.index('t')"
   ]
  },
  {
   "cell_type": "code",
   "execution_count": null,
   "metadata": {},
   "outputs": [],
   "source": [
    "Income.append(\"Raina\")\n",
    "Income"
   ]
  },
  {
   "cell_type": "code",
   "execution_count": null,
   "metadata": {},
   "outputs": [],
   "source": [
    "Sample = \"Beautiful\"\n",
    "print(Sample.count(\"u\"))"
   ]
  },
  {
   "cell_type": "code",
   "execution_count": null,
   "metadata": {},
   "outputs": [],
   "source": [
    "# Print out how often 25000 appears in Income\n",
    "print(Income.count(25000))"
   ]
  },
  {
   "cell_type": "code",
   "execution_count": null,
   "metadata": {},
   "outputs": [],
   "source": [
    "c=range(11)\n",
    "print(c)\n",
    "print (list(c))"
   ]
  },
  {
   "cell_type": "markdown",
   "metadata": {},
   "source": [
    "# Case Study\n",
    "\n",
    "### Strings\n",
    "- Strings as iterables\n"
   ]
  },
  {
   "cell_type": "code",
   "execution_count": null,
   "metadata": {},
   "outputs": [],
   "source": [
    "w=\"Two Shōkaku-class aircraft carriers, Shōkaku and Zuikaku, were commissioned by the Imperial Japanese Navy during World War II. They participated in the attack on Pearl Harbor, the Indian Ocean Raid, and the battles of the Coral Sea, the Eastern Solomons, and the Santa Cruz Islands. Their air groups sank two of the four fleet carriers lost by the United States Navy during the war in addition to one elderly British light carrier. Returning to Japan after the Battle of the Coral Sea to repair damage and replace lost aircraft, they missed the Battle of Midway in June 1942. After the catastrophic loss of four carriers during that battle, they formed the bulk of Japan's carrier force for the rest of the war. Shōkaku was sunk by an American submarine during the Battle of the Philippine Sea in June 1944 as the Americans invaded the Mariana Islands, and Zuikaku was sacrificed as part of a decoy force four months later in the Battle of Leyte Gulf, both with heavy loss of life. Historian Mark Peattie called them 'arguably the best aircraft carriers' of the early 1940s.\""
   ]
  },
  {
   "cell_type": "code",
   "execution_count": null,
   "metadata": {},
   "outputs": [],
   "source": [
    "print (w)"
   ]
  },
  {
   "cell_type": "code",
   "execution_count": null,
   "metadata": {},
   "outputs": [],
   "source": [
    "# All iterables can be looped through\n",
    "for c in w[0:20]:\n",
    "      print (c)"
   ]
  },
  {
   "cell_type": "markdown",
   "metadata": {},
   "source": [
    "### Looping and conditionals interlude\n",
    "- Using for loops and if-else statements\n"
   ]
  },
  {
   "cell_type": "code",
   "execution_count": null,
   "metadata": {},
   "outputs": [],
   "source": [
    "# We can control the flow of execution of code by using conditionals such as if-else\n",
    "if 2>3:#Notice that a statement is followed by a :\n",
    "    print ('Is it possible?')\n",
    "    \n",
    "else:\n",
    "    print ('Yay!!')"
   ]
  },
  {
   "cell_type": "markdown",
   "metadata": {},
   "source": [
    "### Case Study\n",
    "- Use the assign_txt\n",
    "- Count number of capital letters\n",
    "- How many times has the word RSS occured?\n",
    "- How many times has the word Modi occured?"
   ]
  },
  {
   "cell_type": "code",
   "execution_count": null,
   "metadata": {},
   "outputs": [],
   "source": [
    "assign_txt=\"Narendra Damodardas Modi, born 17 September 1950) is the 15th and current Prime Minister of India, in office since 26 May 2014.odi, a leader of the Bharatiya Janata Party was the Chief Minister of Gujarat from 2001 to 2014 and is the Member of Parliament from Varanasi. He led the BJP in the 2014 general election, which gave the party a majority in the Lok Sabha, the first for any political party in India since 1984.As the Chief Minister of Gujarat, Modi's economic policies were praised, while his administration was also criticised for failing to significantly improve the human development in the state, and for failing to prevent the 2002 Gujarat riots. A Hindu nationalist and member of the Rashtriya Swayamsevak Sangh, Modi,remains a controversial figure domestically and internationally. Modi was born on 17 September 1950, to a family of grocers in Vadnagar, Mehsana district, Bombay State (present-day Gujarat).Modi's family belonged to the Modh-Ghanchi-Teli (oil-presser) community,hich is categorised as an Other Backward Class by the Indian government.Modi was the third of six children born to Damodardas Mulchand (1915–1989) and Heeraben Modi (b. c. 1920).As a child, Modi helped his father sell tea at the Vadnagar railway station, and later ran a tea stall with his brother near a bus terminus.Modi completed his higher secondary education in Vadnagar in 1967, where a teacher described him as an average student and a keen debater, with an interest in theatre.Modi had an early gift for rhetoric in debates, and this was noted by his teachers and students.Modi preferred playing larger-than-life characters in theatrical productions, which has influenced his political image.At age eight, Modi discovered the Rashtriya Swayamsevak Sangh (RSS), and began attending its local shakhas (training sessions). There, Modi met Lakshmanrao Inamdar, popularly known as Vakil Saheb, who inducted him as an RSS balswayamsevak (junior cadet) and became his political mentor.While Modi was training with the RSS, he also met Vasant Gajendragadkar and Nathalal Jaghda, Bharatiya Jana Sangh leaders who were founding members of the BJP's Gujarat unit in 1980.Engaged while still a child to a local girl, Jashodaben Narendrabhai Modi, Modi rejected the arranged marriage at the same time he graduated from high school.The resulting familial tensions contributed to his decision to leave home in 1967.Modi spent the ensuing two years travelling across Northern and North-eastern India, though few details of where he went have emerged.In interviews, Modi has described visiting Hindu ashrams founded by Swami Vivekananda: the Belur Math near Kolkata, followed by the Advaita Ashrama in Almora and the Ramakrishna mission in Rajkot. Modi remained only a short time at each, since he lacked the required college education.\""
   ]
  },
  {
   "cell_type": "code",
   "execution_count": null,
   "metadata": {},
   "outputs": [],
   "source": [
    "print (assign_txt.count('RSS'))"
   ]
  },
  {
   "cell_type": "code",
   "execution_count": null,
   "metadata": {},
   "outputs": [],
   "source": [
    "print (assign_txt.count('Modi'))"
   ]
  },
  {
   "cell_type": "code",
   "execution_count": null,
   "metadata": {},
   "outputs": [],
   "source": [
    "type(assign_txt)"
   ]
  },
  {
   "cell_type": "code",
   "execution_count": null,
   "metadata": {},
   "outputs": [],
   "source": [
    "c=0\n",
    "for l in assign_txt:           \n",
    "    if l.isupper():\n",
    "        c = c+1\n",
    "      \n",
    "print (c)\n"
   ]
  },
  {
   "cell_type": "markdown",
   "metadata": {},
   "source": [
    "### Case Study\n",
    "- Use the assign_txt\n",
    "- Find out the total number of lines in assign_txt (Use the split() method to create a list, assume \".\" to be EOL)\n",
    "- Extract the years like 1950 from the text and count their occurence"
   ]
  },
  {
   "cell_type": "code",
   "execution_count": null,
   "metadata": {},
   "outputs": [],
   "source": [
    "assign_txt "
   ]
  },
  {
   "cell_type": "code",
   "execution_count": null,
   "metadata": {},
   "outputs": [],
   "source": [
    "print(dir(assign_txt))"
   ]
  },
  {
   "cell_type": "code",
   "execution_count": null,
   "metadata": {},
   "outputs": [],
   "source": [
    "?assign_txt.split"
   ]
  },
  {
   "cell_type": "code",
   "execution_count": null,
   "metadata": {},
   "outputs": [],
   "source": [
    "len(assign_txt.split(\".\"))"
   ]
  },
  {
   "cell_type": "code",
   "execution_count": null,
   "metadata": {},
   "outputs": [],
   "source": [
    "print(assign_txt.split(\" \"))"
   ]
  },
  {
   "cell_type": "code",
   "execution_count": null,
   "metadata": {},
   "outputs": [],
   "source": [
    "store = []\n",
    "years =[]\n",
    "for w in assign_txt.replace(\".\",\" \").replace(\"(\",\" \").replace(\")\",\" \").replace(\"-\",\" \").replace(\",\",\" \").split(\" \"):\n",
    "            if w.isdigit():\n",
    "                store.append(w)                \n",
    "for y in store:\n",
    "    if len(y)==4:\n",
    "        years.append(y)\n",
    "\n",
    "print  (years)\n",
    "               "
   ]
  },
  {
   "cell_type": "code",
   "execution_count": null,
   "metadata": {},
   "outputs": [],
   "source": [
    "len(years)"
   ]
  },
  {
   "cell_type": "markdown",
   "metadata": {},
   "source": [
    "# List Comprehension"
   ]
  },
  {
   "cell_type": "code",
   "execution_count": null,
   "metadata": {},
   "outputs": [],
   "source": [
    "c=[2,3,4,5]"
   ]
  },
  {
   "cell_type": "code",
   "execution_count": null,
   "metadata": {},
   "outputs": [],
   "source": [
    "#Suppose we want to create a list containing the squares in the list c\n",
    "#Method 1\n",
    "s=[]\n",
    "for num in c:\n",
    "    s.append(num**2)\n",
    "print(s)"
   ]
  },
  {
   "cell_type": "code",
   "execution_count": null,
   "metadata": {},
   "outputs": [],
   "source": [
    "#Method 2\n",
    "[x**2 for x in c ] #Very concise way"
   ]
  },
  {
   "cell_type": "code",
   "execution_count": null,
   "metadata": {},
   "outputs": [],
   "source": [
    "Python_Structure = ['List', 'Strings','Dict','Boolean']\n",
    "range(50)\n",
    "Data_Science = 'Data is the new oil'\n",
    "price = 'Rs.20,000'\n",
    "income = 50000"
   ]
  },
  {
   "cell_type": "code",
   "execution_count": null,
   "metadata": {},
   "outputs": [],
   "source": [
    "[x+2 for x in income ]   #Why error"
   ]
  },
  {
   "cell_type": "markdown",
   "metadata": {},
   "source": [
    "\n",
    "-Suppose we want to create a list from a and b such that it looks like the following:\n",
    "- [[1,'a'],[2,'b'],[3,'c'],[4,'d']]"
   ]
  },
  {
   "cell_type": "code",
   "execution_count": null,
   "metadata": {},
   "outputs": [],
   "source": [
    "a=[1,2,3,4]\n",
    "b=['a','b','c','d']"
   ]
  },
  {
   "cell_type": "code",
   "execution_count": null,
   "metadata": {},
   "outputs": [],
   "source": [
    "[[x,y] for x in a for y in b if a.index(x)==b.index(y)]"
   ]
  },
  {
   "cell_type": "code",
   "execution_count": null,
   "metadata": {},
   "outputs": [],
   "source": [
    "pairs = []\n",
    "for p in range(0,2):\n",
    "    for q in range(3,5):\n",
    "        pairs.append([p,q])\n",
    "print(pairs)"
   ]
  },
  {
   "cell_type": "code",
   "execution_count": null,
   "metadata": {},
   "outputs": [],
   "source": [
    "pairs2 = [[p,q] for p in range(0,2) for q in range(3,5)]\n",
    "print(pairs2)"
   ]
  },
  {
   "cell_type": "code",
   "execution_count": null,
   "metadata": {},
   "outputs": [],
   "source": [
    "# zip\n",
    "a=[1,2,3,4]\n",
    "b=['a','b','c','d']\n",
    "zip(a,b)"
   ]
  },
  {
   "cell_type": "code",
   "execution_count": null,
   "metadata": {},
   "outputs": [],
   "source": [
    "\n",
    "print(list(zip(a,b)))"
   ]
  },
  {
   "cell_type": "code",
   "execution_count": null,
   "metadata": {},
   "outputs": [],
   "source": [
    "[list(x) for x in zip(a,b) ]"
   ]
  },
  {
   "cell_type": "code",
   "execution_count": null,
   "metadata": {},
   "outputs": [],
   "source": [
    "x = ['P', 6, 1, 'Q', 5, 'R']           #List Comprehension - Conditions on output expression\n",
    "strings = [y for y in x if type(y) == str]\n",
    "print(strings)"
   ]
  },
  {
   "cell_type": "code",
   "execution_count": null,
   "metadata": {},
   "outputs": [],
   "source": [
    "[num**2 for num in range(10) if num%2 ==0]"
   ]
  },
  {
   "cell_type": "code",
   "execution_count": null,
   "metadata": {},
   "outputs": [],
   "source": [
    "[num**2 if num%2 ==0 else 0 for num in range(10)]"
   ]
  },
  {
   "cell_type": "code",
   "execution_count": null,
   "metadata": {
    "scrolled": true
   },
   "outputs": [],
   "source": [
    "int_list = [-2, 4, 1, 6, -3]\n",
    "print(x for x in int_list if x > 0)\n",
    "print(list(x for x in int_list if x > 0))"
   ]
  },
  {
   "cell_type": "markdown",
   "metadata": {},
   "source": [
    "### Lambdas, map\n",
    "- We can use lambdas, map to replicate the functionality of list comprehension"
   ]
  },
  {
   "cell_type": "code",
   "execution_count": null,
   "metadata": {},
   "outputs": [],
   "source": [
    "mass=[45,55,65,76]\n",
    "ht=[1.65,1.70,1.55,1.80]\n",
    "bmi=map(lambda x,y:x/y**2,mass,ht)\n",
    "bmi_f=filter(lambda x:x<20,bmi)\n",
    "print (bmi)\n",
    "print (bmi_f)\n",
    "print(list(bmi))"
   ]
  },
  {
   "cell_type": "code",
   "execution_count": null,
   "metadata": {},
   "outputs": [],
   "source": [
    "# Define W1 as a lambda function\n",
    "W1 = (lambda x, y: x * y)\n",
    "\n",
    "# Call W1: result\n",
    "result = W1('Yay', 3)\n",
    "\n",
    "# Print result\n",
    "print(result)"
   ]
  },
  {
   "cell_type": "code",
   "execution_count": null,
   "metadata": {},
   "outputs": [],
   "source": [
    "nums = [2, 4, 6, 8, 10]\n",
    "result = map(lambda a: a ** 2, nums)"
   ]
  },
  {
   "cell_type": "code",
   "execution_count": null,
   "metadata": {
    "scrolled": true
   },
   "outputs": [],
   "source": [
    "# Filter\n",
    "Cities = ['Delhi', 'Pune', 'Chennai', 'Kolkata']\n",
    "\n",
    "# Use filter() to apply a lambda function over fellowship: result\n",
    "result = filter(lambda m: len(m) > 6, Cities)\n",
    "\n",
    "type(result)\n",
    "# Convert result to a list: result_list\n",
    "result_list = list(result)\n",
    "\n",
    "# Convert result into a list and print it\n",
    "print(result_list)\n"
   ]
  },
  {
   "cell_type": "markdown",
   "metadata": {},
   "source": [
    "# Error Handling"
   ]
  },
  {
   "cell_type": "code",
   "execution_count": null,
   "metadata": {},
   "outputs": [],
   "source": [
    "# Define w\n",
    "def w3(x, y=1):\n",
    "    \"\"\"Concatenate  copies of word1 and two\n",
    "    exclamation marks at the end of the string.\"\"\"\n",
    "\n",
    "    # Initialize empty strings: \n",
    "    w3 = ''\n",
    "    s3 = ''\n",
    "\n",
    "    # Add exception handling with try-except\n",
    "    try:\n",
    "        # Concatenate copies of word using *\n",
    "        w3 = x * y\n",
    "\n",
    "        # Concatenate '!!' \n",
    "        s3 = w3 + '!!'\n",
    "    except:\n",
    "        # Print error message\n",
    "        print(\"x argument must be a string and y argument must be an integer.\")\n",
    "\n",
    "   \n",
    "    return s3\n",
    "\n",
    "# Call s\n",
    "w3(\"Yay\", \"Great\")\n"
   ]
  },
  {
   "cell_type": "code",
   "execution_count": null,
   "metadata": {},
   "outputs": [],
   "source": [
    "# Define w4\n",
    "def w4(x, y=3):\n",
    "    \"\"\"Concatenate copies of word-x and three\n",
    "    exclamation marks at the end of the string.\"\"\"\n",
    "\n",
    "    # Raise an error with raise\n",
    "    if w4 < 0:\n",
    "        raise ValueError('w4 must be greater than 0')\n",
    "\n",
    "    # Concatenate  copies of word1 using *: \n",
    "    z = x * y\n",
    "\n",
    "    # Concatenate '!!!'\n",
    "    w = z + '!!!'\n",
    "\n",
    "    # Return \n",
    "    return w\n",
    "\n",
    "# Call w4\n",
    "w4(\"Yay\", y=5)\n"
   ]
  },
  {
   "cell_type": "markdown",
   "metadata": {},
   "source": [
    "### Tuples\n",
    "- Tuples as immutable iterables\n",
    "- Tuple methods"
   ]
  },
  {
   "cell_type": "code",
   "execution_count": null,
   "metadata": {},
   "outputs": [],
   "source": [
    "t=(1,2,3,5)\n",
    "print(t)"
   ]
  },
  {
   "cell_type": "code",
   "execution_count": null,
   "metadata": {},
   "outputs": [],
   "source": [
    "print(t[0])\n",
    "print (t[1])"
   ]
  },
  {
   "cell_type": "code",
   "execution_count": null,
   "metadata": {},
   "outputs": [],
   "source": [
    "li6=[1,2,3,4]\n",
    "li6[0]=0\n",
    "print (li6)"
   ]
  },
  {
   "cell_type": "code",
   "execution_count": null,
   "metadata": {},
   "outputs": [],
   "source": [
    "t[0]=0"
   ]
  },
  {
   "cell_type": "code",
   "execution_count": null,
   "metadata": {},
   "outputs": [],
   "source": [
    "print (dir(t))"
   ]
  },
  {
   "cell_type": "markdown",
   "metadata": {},
   "source": [
    "### Dictionaries\n",
    "- Dictionaries as hashbles\n",
    "- Extracting keys, values\n",
    "- Sorting  a dictionary\n",
    "- Looping through a dictionary"
   ]
  },
  {
   "cell_type": "code",
   "execution_count": null,
   "metadata": {},
   "outputs": [],
   "source": [
    "Income = [30000,40000,25000]\n",
    "name = [\"Umesh\", \"Ramesh\",\"Nilesh\"]\n",
    "in_r = name.index('Ramesh')\n",
    "in_r\n",
    "Income[in_r]"
   ]
  },
  {
   "cell_type": "code",
   "execution_count": null,
   "metadata": {
    "scrolled": true
   },
   "outputs": [],
   "source": [
    "#Dictionary - key:value pairs\n",
    "\n",
    "Inc = {\"Umesh\":30000,\"Ramesh\":40000,\"Nilesh\":25000}\n",
    "print(Inc)"
   ]
  },
  {
   "cell_type": "code",
   "execution_count": null,
   "metadata": {},
   "outputs": [],
   "source": [
    "#dict_name[key]\n",
    "\n",
    "print(Inc[\"Umesh\"])"
   ]
  },
  {
   "cell_type": "code",
   "execution_count": null,
   "metadata": {},
   "outputs": [],
   "source": [
    "#Print keys in Inc\n",
    "\n",
    "print(Inc.keys())\n",
    "print(Inc.values())"
   ]
  },
  {
   "cell_type": "code",
   "execution_count": null,
   "metadata": {},
   "outputs": [],
   "source": [
    "\"Nilesh\" in Inc"
   ]
  },
  {
   "cell_type": "code",
   "execution_count": null,
   "metadata": {},
   "outputs": [],
   "source": [
    "Inc[\"Nilesh\"] = 35000\n",
    "print(Inc)"
   ]
  },
  {
   "cell_type": "code",
   "execution_count": null,
   "metadata": {},
   "outputs": [],
   "source": [
    "del(Inc[\"Nilesh\"])"
   ]
  },
  {
   "cell_type": "code",
   "execution_count": null,
   "metadata": {},
   "outputs": [],
   "source": [
    "print(Inc)"
   ]
  },
  {
   "cell_type": "code",
   "execution_count": null,
   "metadata": {},
   "outputs": [],
   "source": [
    "print (dir(Inc))"
   ]
  },
  {
   "cell_type": "code",
   "execution_count": null,
   "metadata": {},
   "outputs": [],
   "source": [
    "print (Inc.items())"
   ]
  },
  {
   "cell_type": "code",
   "execution_count": null,
   "metadata": {},
   "outputs": [],
   "source": [
    "# Dictionary of dictionaries\n",
    "Income1 = { 'Ramesh': { 'Gender':'male', 'Income':40000},\n",
    "           'Ana': { 'Gender':'female', 'Income':66000 },\n",
    "           'Uma': { 'Gender':'female', 'Income':20000 },\n",
    "           'Umesh': { 'Gender':'male', 'Income':58000 } }\n",
    "\n",
    "\n",
    "# Print out the Income of Ramesh\n",
    "print(Income1['Ramesh']['Income'])\n",
    "\n",
    "# Create sub-dictionary data\n",
    "income2 = { 'Gender':'female', 'Income':30000 }\n",
    "\n",
    "# Add data to europe under key 'italy'\n",
    "Income1['Seema'] = income2\n",
    "\n",
    "# Print\n",
    "print(Income1)"
   ]
  },
  {
   "cell_type": "code",
   "execution_count": null,
   "metadata": {},
   "outputs": [],
   "source": [
    "for x in Inc:\n",
    "    print (x)"
   ]
  },
  {
   "cell_type": "code",
   "execution_count": null,
   "metadata": {},
   "outputs": [],
   "source": [
    "for x in Inc:\n",
    "    print (x, Inc[x])"
   ]
  },
  {
   "cell_type": "code",
   "execution_count": null,
   "metadata": {},
   "outputs": [],
   "source": [
    "#List Comprehension on Dictionaries\n",
    "\n",
    "pos_neg = {l:-l for l in range(3)}\n",
    "print(pos_neg)\n",
    "type(pos_neg)"
   ]
  },
  {
   "cell_type": "markdown",
   "metadata": {},
   "source": [
    "### Use the assign_txt\n",
    "- Find out the occurence of each word in text string (Create a list of each word in the string, loop over this list to create a dictionary of words and their occurences"
   ]
  },
  {
   "cell_type": "code",
   "execution_count": null,
   "metadata": {},
   "outputs": [],
   "source": [
    "d={}\n",
    "for w in assign_txt.split(\" \"):\n",
    "    if w in d:\n",
    "        d[w]=d[w]+1\n",
    "    else:\n",
    "        d[w]=1\n",
    "    "
   ]
  },
  {
   "cell_type": "code",
   "execution_count": null,
   "metadata": {},
   "outputs": [],
   "source": [
    "print (d)"
   ]
  },
  {
   "cell_type": "markdown",
   "metadata": {},
   "source": [
    "### Files\n",
    "- Reading files\n",
    "- Manipulating data in file objects\n",
    "- Writing out files"
   ]
  },
  {
   "cell_type": "code",
   "execution_count": null,
   "metadata": {},
   "outputs": [],
   "source": [
    "# modules interlude\n",
    "import os\n",
    "os.chdir('E:\\Python for ML')"
   ]
  },
  {
   "cell_type": "code",
   "execution_count": null,
   "metadata": {},
   "outputs": [],
   "source": [
    "f=open('tweets_assignment.txt','r')\n",
    "fo=f.read()\n",
    "print(type(f))\n",
    "print(type(fo))\n",
    "f.close()"
   ]
  },
  {
   "cell_type": "code",
   "execution_count": null,
   "metadata": {},
   "outputs": [],
   "source": [
    "f=open('write.txt','w')\n",
    "for dt in fo:\n",
    "    f.write(dt+'\\n')\n",
    "f.close()"
   ]
  },
  {
   "cell_type": "code",
   "execution_count": null,
   "metadata": {},
   "outputs": [],
   "source": [
    "fo[0:100]"
   ]
  },
  {
   "cell_type": "code",
   "execution_count": null,
   "metadata": {},
   "outputs": [],
   "source": [
    "with open(\"tweets_assignment.txt\",\"r\") as infile:\n",
    "    dat=infile.read()"
   ]
  },
  {
   "cell_type": "code",
   "execution_count": null,
   "metadata": {},
   "outputs": [],
   "source": [
    "dat[0:100]"
   ]
  },
  {
   "cell_type": "markdown",
   "metadata": {},
   "source": [
    "### Assignment\n",
    "- Use the file tweets_assignment.txt\n",
    "- Count the total number of tweets in the file\n",
    "- Extract the time stamp from the file and store it in a list"
   ]
  },
  {
   "cell_type": "code",
   "execution_count": null,
   "metadata": {},
   "outputs": [],
   "source": [
    "## Total number of tweets\n",
    "f=open('tweets_assignment.txt','r')\n",
    "fo=f.read()\n",
    "f.close()"
   ]
  },
  {
   "cell_type": "code",
   "execution_count": null,
   "metadata": {},
   "outputs": [],
   "source": [
    "fo[0:100]"
   ]
  },
  {
   "cell_type": "code",
   "execution_count": null,
   "metadata": {},
   "outputs": [],
   "source": [
    "len(fo.split(\"\\n\"))"
   ]
  },
  {
   "cell_type": "code",
   "execution_count": null,
   "metadata": {},
   "outputs": [],
   "source": [
    "## Extract the time stamp\n",
    "for line in fo.split(\"\\n\"):\n",
    "    print(line.split(\"|\")[0])"
   ]
  },
  {
   "cell_type": "code",
   "execution_count": null,
   "metadata": {},
   "outputs": [],
   "source": []
  }
 ],
 "metadata": {
  "kernelspec": {
   "display_name": "Python 3",
   "language": "python",
   "name": "python3"
  },
  "language_info": {
   "codemirror_mode": {
    "name": "ipython",
    "version": 3
   },
   "file_extension": ".py",
   "mimetype": "text/x-python",
   "name": "python",
   "nbconvert_exporter": "python",
   "pygments_lexer": "ipython3",
   "version": "3.7.1"
  }
 },
 "nbformat": 4,
 "nbformat_minor": 1
}
