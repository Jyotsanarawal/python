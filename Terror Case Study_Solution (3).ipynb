{
 "cells": [
  {
   "cell_type": "code",
   "execution_count": null,
   "metadata": {},
   "outputs": [],
   "source": [
    "\n",
    "\n",
    "import pandas as pd\n",
    "import numpy as np\n",
    "from pandas import DataFrame\n",
    "import os\n",
    "os.chdir('G:\\\\Banglalink\\\\Python Master\\\\PythonForModellers-master\\\\Data')"
   ]
  },
  {
   "cell_type": "code",
   "execution_count": null,
   "metadata": {},
   "outputs": [],
   "source": [
    "data=pd.read_csv('terror.csv',sep=',',header=0, encoding=\"latin\")\n",
    "\n",
    "print (data.head())\n",
    "print (data.shape)\n",
    "print (data.columns.tolist())\n"
   ]
  },
  {
   "cell_type": "code",
   "execution_count": null,
   "metadata": {},
   "outputs": [],
   "source": [
    "\n",
    "### How many attacks happened in India\n",
    "data['country_txt'].unique().tolist()\n",
    "data[data['country_txt']==\"India\"]\n",
    "data[data['country_txt']==\"India\"].shape[0]\n"
   ]
  },
  {
   "cell_type": "code",
   "execution_count": null,
   "metadata": {},
   "outputs": [],
   "source": [
    "## How many attacks happened in India and upto 3 people were killed\n",
    "data[(data['country_txt']=='India')&(data['nkill']<=3)].shape[0]\n"
   ]
  },
  {
   "cell_type": "code",
   "execution_count": null,
   "metadata": {},
   "outputs": [],
   "source": [
    "# This looks ugly\n",
    "data.query(\"country_txt=='India' & nkill<=3\").shape[0]\n"
   ]
  },
  {
   "cell_type": "code",
   "execution_count": null,
   "metadata": {},
   "outputs": [],
   "source": [
    "# Extract the city and summary for attacks above\n",
    "data.query(\"country_txt=='India' & nkill<=3\")[['city','summary']].head(10)\n"
   ]
  },
  {
   "cell_type": "code",
   "execution_count": null,
   "metadata": {},
   "outputs": [],
   "source": [
    "# In a single terror incident in India, find out top 5 cities by number killed\n",
    "data.query(\"country_txt=='India'\").sort_values('nkill',ascending=False)['city'].head(5)\n"
   ]
  },
  {
   "cell_type": "code",
   "execution_count": null,
   "metadata": {},
   "outputs": [],
   "source": [
    "# Little more detailed\n",
    "data.query(\"country_txt=='India'\").sort_values('nkill',ascending=False)[['city','nkill','iyear']].head(5)\n"
   ]
  },
  {
   "cell_type": "code",
   "execution_count": null,
   "metadata": {},
   "outputs": [],
   "source": [
    "\n",
    "# In a single terror incident in India, find out top 5 cities by number killed and wounded\n",
    "data.query(\"country_txt=='India'\").sort_values(['nkill','nwound'],ascending=[False,False])['city'].head(5)\n"
   ]
  },
  {
   "cell_type": "code",
   "execution_count": null,
   "metadata": {},
   "outputs": [],
   "source": [
    "#### Adding new columns to the data\n",
    "#Attacks which were successful and were suicide attacks\n",
    "data['success_suicide']=data['suicide']+data['success']\n",
    "data=data.assign(success_suicide_1=data['suicide']+data['success'])\n",
    "\n",
    "data.query(\"success_suicide==2\").shape[0]\n"
   ]
  },
  {
   "cell_type": "code",
   "execution_count": null,
   "metadata": {},
   "outputs": [],
   "source": [
    "\n",
    "### Dropping columns\n",
    "data.drop('success_suicide',axis=1) \n",
    "data.drop('success_suicide',axis=1,inplace=True) \n"
   ]
  },
  {
   "cell_type": "code",
   "execution_count": null,
   "metadata": {},
   "outputs": [],
   "source": [
    "\n",
    "### Aggregations and manipulations using apply and map\n",
    "#map: map a function to each element of a series object\n",
    "data['nkill'].describe()\n",
    "#Suppose we want to label all the incidents where the number killed was more than 5 as severe. This would involve applying a function on each element of the series, map helps in doing that\n",
    "def get_label(x):\n",
    "    if x>5:\n",
    "        return 'Severe'\n",
    "    else:\n",
    "        return 'Not Severe'\n",
    "data['nkill'].map(get_label)\n",
    "#You can use lambda functions as well (if else follows a special form when used with lambdas )\n",
    "data['nkill'].map(lambda x: \"Severe\" if x>5 else \"Not Severe\")"
   ]
  },
  {
   "cell_type": "code",
   "execution_count": null,
   "metadata": {},
   "outputs": [],
   "source": [
    "# We can use apply to use a function row wise or column wise\n",
    "# Let's write a function to label an incident that was both successful and suicidal\n",
    "\n",
    "def get_label(row):\n",
    "    if row['success']==1 and row['suicide']==1:\n",
    "        return 1\n",
    "    else:\n",
    "        return 0\n",
    "data.apply(get_label,axis=1)\n",
    "data.apply(get_label,axis=1).unique()\n",
    "\n",
    "data.apply(lambda row: 1 if row['success']==1 and row['suicide']==1 else 0,axis=1)\n"
   ]
  },
  {
   "cell_type": "code",
   "execution_count": null,
   "metadata": {},
   "outputs": [],
   "source": [
    "\n",
    "### Create a new  category representing if the incident occured in Afghanistan, Pakistan or India as one level of the category and all the other countries as another level\n",
    "\n",
    "def get_label(row):\n",
    "    if row['country_txt']=='India' or row['country_txt']=='Afghnistan' or row['country_txt']=='Pakistan':\n",
    "        return 'Af-Pak-India'\n",
    "    else:\n",
    "        return 'ROW'\n",
    "data.apply(get_label,axis=1)\n",
    "\n",
    "data['Local']=data.apply(get_label,axis=1)\n"
   ]
  },
  {
   "cell_type": "code",
   "execution_count": null,
   "metadata": {},
   "outputs": [],
   "source": [
    "data.apply(lambda row: 'Af-Pak-India' if row['country_txt']=='India' or row['country_txt']=='Afghnistan' or row['country_txt']=='Pakistan' else  'ROW', axis =1 )"
   ]
  },
  {
   "cell_type": "code",
   "execution_count": null,
   "metadata": {},
   "outputs": [],
   "source": []
  },
  {
   "cell_type": "code",
   "execution_count": null,
   "metadata": {},
   "outputs": [],
   "source": [
    "\n",
    "## Number of incidents in Af-Pak-India vs ROW\n",
    "data['Local'].value_counts()\n",
    "data.groupby('Local').size()"
   ]
  },
  {
   "cell_type": "code",
   "execution_count": null,
   "metadata": {},
   "outputs": [],
   "source": [
    "\n",
    "\n",
    "## Number of suicide attacks by Af-Pak-India vs ROW\n",
    "data.groupby(['Local','suicide']).agg({'eventid':np.size})\n",
    "data.groupby(['Local','suicide'],as_index=False).agg({'eventid':np.size})\n"
   ]
  },
  {
   "cell_type": "code",
   "execution_count": null,
   "metadata": {},
   "outputs": [],
   "source": [
    "\n",
    "## Number of suicides attacks and average kills by Af-Pak-India vs ROW\n",
    "data.groupby(['Local','suicide'])['nkill'].agg([np.mean,np.size])\n",
    "data.groupby(['Local','suicide'])['nkill'].agg([np.mean,np.size]).reset_index()"
   ]
  },
  {
   "cell_type": "code",
   "execution_count": null,
   "metadata": {},
   "outputs": [],
   "source": [
    "#Rename columns\n",
    "data.groupby(['Local','suicide'])['nkill'].agg([np.mean,np.size]).reset_index().rename(columns={'mean':'Average_Kills','size':'Number_Incidents'})\n",
    "\n",
    "data.groupby([\"Local\",'suicide']).agg({'nkill':np.mean,'nwound':np.sum}).reset_index().rename(columns={'nwound':'Total_Wounded','nkill':'Number_Killed'})\n"
   ]
  }
 ],
 "metadata": {
  "kernelspec": {
   "display_name": "Python 3",
   "language": "python",
   "name": "python3"
  },
  "language_info": {
   "codemirror_mode": {
    "name": "ipython",
    "version": 3
   },
   "file_extension": ".py",
   "mimetype": "text/x-python",
   "name": "python",
   "nbconvert_exporter": "python",
   "pygments_lexer": "ipython3",
   "version": "3.7.1"
  }
 },
 "nbformat": 4,
 "nbformat_minor": 2
}
